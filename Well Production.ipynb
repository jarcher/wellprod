{
 "cells": [
  {
   "cell_type": "markdown",
   "metadata": {},
   "source": [
    "Example report for Well Production \\n\n",
    "John Archer\n",
    "joarcher@redhat.com\n"
   ]
  },
  {
   "cell_type": "code",
   "execution_count": 13,
   "metadata": {},
   "outputs": [
    {
     "name": "stdout",
     "output_type": "stream",
     "text": [
      "(109, 4)\n"
     ]
    }
   ],
   "source": [
    "%matplotlib inline\n",
    "\n",
    "import pandas as pd\n",
    "df = pd.read_csv(\"./data/winkler_vol.csv\")\n",
    "print(df.shape)\n"
   ]
  },
  {
   "cell_type": "code",
   "execution_count": 14,
   "metadata": {},
   "outputs": [
    {
     "name": "stdout",
     "output_type": "stream",
     "text": [
      "Index(['Months', 'Oil Rates', 'Gas Rates', 'Water Rates'], dtype='object')\n"
     ]
    }
   ],
   "source": [
    "print(df.columns)"
   ]
  },
  {
   "cell_type": "code",
   "execution_count": 15,
   "metadata": {},
   "outputs": [
    {
     "name": "stdout",
     "output_type": "stream",
     "text": [
      "Months           int64\n",
      "Oil Rates      float64\n",
      "Gas Rates      float64\n",
      "Water Rates    float64\n",
      "dtype: object\n"
     ]
    }
   ],
   "source": [
    "print(df.dtypes)"
   ]
  },
  {
   "cell_type": "code",
   "execution_count": 34,
   "metadata": {},
   "outputs": [
    {
     "name": "stdout",
     "output_type": "stream",
     "text": [
      "     Months  Oil Rates  Gas Rates  Water Rates\n",
      "0         1    34135.0   132199.0      58030.0\n",
      "50       51     5578.0    20877.0       9483.0\n",
      "100     101      615.0     1531.0       1046.0\n"
     ]
    }
   ],
   "source": [
    "print (df.loc[[0,50,100]])\n"
   ]
  },
  {
   "cell_type": "code",
   "execution_count": 28,
   "metadata": {},
   "outputs": [],
   "source": [
    "oil= df['Oil Rates']\n",
    "gas = df['Gas Rates']\n",
    "water = df['Water Rates']"
   ]
  },
  {
   "cell_type": "code",
   "execution_count": 27,
   "metadata": {},
   "outputs": [
    {
     "name": "stdout",
     "output_type": "stream",
     "text": [
      "count      106.000000\n",
      "mean      7304.650943\n",
      "std       6759.720675\n",
      "min        264.000000\n",
      "25%       2331.000000\n",
      "50%       5231.000000\n",
      "75%      10131.000000\n",
      "max      34135.000000\n",
      "Name: Oil Rates, dtype: float64\n"
     ]
    }
   ],
   "source": [
    "print(oil.describe())"
   ]
  },
  {
   "cell_type": "code",
   "execution_count": 29,
   "metadata": {},
   "outputs": [
    {
     "name": "stdout",
     "output_type": "stream",
     "text": [
      "count       106.000000\n",
      "mean      27607.603774\n",
      "std       26351.033463\n",
      "min         163.000000\n",
      "25%        8220.000000\n",
      "50%       19523.500000\n",
      "75%       38626.500000\n",
      "max      132199.000000\n",
      "Name: Gas Rates, dtype: float64\n"
     ]
    }
   ],
   "source": [
    "print(gas.describe())"
   ]
  },
  {
   "cell_type": "code",
   "execution_count": 30,
   "metadata": {},
   "outputs": [
    {
     "name": "stdout",
     "output_type": "stream",
     "text": [
      "count      106.000000\n",
      "mean     12417.915094\n",
      "std      11491.503289\n",
      "min        450.000000\n",
      "25%       3962.750000\n",
      "50%       8892.500000\n",
      "75%      17222.750000\n",
      "max      58030.000000\n",
      "Name: Water Rates, dtype: float64\n"
     ]
    }
   ],
   "source": [
    "print(water.describe())"
   ]
  },
  {
   "cell_type": "code",
   "execution_count": 35,
   "metadata": {},
   "outputs": [],
   "source": [
    "import matplotlib.pyplot as plt"
   ]
  },
  {
   "cell_type": "code",
   "execution_count": 36,
   "metadata": {},
   "outputs": [],
   "source": [
    "df = df.cumsum()"
   ]
  },
  {
   "cell_type": "code",
   "execution_count": 37,
   "metadata": {},
   "outputs": [
    {
     "data": {
      "text/plain": [
       "<Figure size 432x288 with 0 Axes>"
      ]
     },
     "metadata": {},
     "output_type": "display_data"
    },
    {
     "data": {
      "image/png": "[encoded data removed]",
      "text/plain": [
       "<Figure size 432x288 with 1 Axes>"
      ]
     },
     "metadata": {},
     "output_type": "display_data"
    }
   ],
   "source": [
    "plt.figure(); df.plot();"
   ]
  },
  {
   "cell_type": "code",
   "execution_count": null,
   "metadata": {},
   "outputs": [],
   "source": []
  }
 ],
 "metadata": {
  "kernelspec": {
   "display_name": "Python 3",
   "language": "python",
   "name": "python3"
  },
  "language_info": {
   "codemirror_mode": {
    "name": "ipython",
    "version": 3
   },
   "file_extension": ".py",
   "mimetype": "text/x-python",
   "name": "python",
   "nbconvert_exporter": "python",
   "pygments_lexer": "ipython3",
   "version": "3.5.1"
  }
 },
 "nbformat": 4,
 "nbformat_minor": 2
}
